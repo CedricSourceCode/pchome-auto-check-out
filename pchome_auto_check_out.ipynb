{
 "cells": [
  {
   "cell_type": "markdown",
   "metadata": {},
   "source": [
    "# --使用須知--\n",
    "#### 1. 須先安裝selenium\n",
    "#### 2. 下載selenium的chromedriver\n",
    "#### 3. 在PCHOME設定好預設的收件地址\n",
    "#### 4. 清空原本的購物車\n",
    "\n",
    "#### P.S. 為求快速結帳一律選擇宅配貨到付款"
   ]
  },
  {
   "cell_type": "code",
   "execution_count": null,
   "metadata": {},
   "outputs": [],
   "source": [
    "from datetime import datetime\n",
    "from time import sleep\n",
    "from joblib import dump, load\n",
    "from selenium import webdriver\n",
    "from selenium.webdriver.chrome.options import Options\n",
    "from selenium.common.exceptions import NoSuchElementException, UnexpectedAlertPresentException"
   ]
  },
  {
   "cell_type": "code",
   "execution_count": null,
   "metadata": {},
   "outputs": [],
   "source": [
    "#商品編號\n",
    "product_id = \"這邊填入PCHOME商品頁後面的編號\"\n",
    "#預計販售時間，建議可以設定早一點讓他去try\n",
    "#                     年   月  日  時  分  秒\n",
    "sale_time = datetime(2020, 5, 1, 9, 0, 0)\n",
    "\n",
    "#PCHOME帳號\n",
    "acc = \"這邊填入你的PCHOME帳號\"\n",
    "#PCHOME密碼\n",
    "pwd = \"這邊填入你的PCHOME密碼\"\n",
    "\n",
    "options = Options()\n",
    "#你chrome的路徑\n",
    "options.binary_location = \"這邊填入你chrome.exe的路徑\"\n",
    "#你selenium的chromedriver的路徑\n",
    "webdriver_path = '這邊填入你你selenium的chromedriver的路徑'"
   ]
  },
  {
   "cell_type": "code",
   "execution_count": null,
   "metadata": {},
   "outputs": [],
   "source": [
    "driver = webdriver.Chrome(executable_path=webdriver_path, options=options)\n",
    "driver.get(\"https://24h.pchome.com.tw/cart.php\")\n",
    "while True:\n",
    "    try:\n",
    "        driver.find_element_by_id('loginAcc').send_keys(acc)\n",
    "        driver.find_element_by_id('loginPwd').send_keys(pwd)\n",
    "        driver.find_element_by_id('btnLogin').click()\n",
    "        break\n",
    "    except NoSuchElementException:\n",
    "        print(\"Loading is Not done yet!\")\n",
    "\n",
    "sleep(10)"
   ]
  },
  {
   "cell_type": "code",
   "execution_count": null,
   "metadata": {
    "scrolled": false
   },
   "outputs": [],
   "source": [
    "while True:\n",
    "    if datetime.now() > sale_time:\n",
    "        driver.get(\"https://24h.pchome.com.tw/prod/\"+product_id)\n",
    "        break\n",
    "    else:\n",
    "        print(\"Not available yet!\")\n",
    "        time_diff = (sale_time - datetime.now()).total_seconds()\n",
    "        if time_diff > 10:\n",
    "            print(time_diff)\n",
    "            sleep(time_diff/2)\n",
    "        elif time_diff > 2:\n",
    "            print(time_diff)\n",
    "            sleep(1)\n",
    "        else:\n",
    "            pass"
   ]
  },
  {
   "cell_type": "code",
   "execution_count": null,
   "metadata": {},
   "outputs": [],
   "source": [
    "while True:\n",
    "    try:\n",
    "        driver.find_element_by_css_selector('#ButtonContainer > button').click()\n",
    "        try:\n",
    "            alert = driver.switch_to_alert()\n",
    "            alert.accept()\n",
    "            print(\"Not available yet!\")\n",
    "            driver.get(\"https://24h.pchome.com.tw/prod/\"+product_id)\n",
    "        except:\n",
    "            print(\"Get into cart!\")\n",
    "            break\n",
    "    except NoSuchElementException:\n",
    "        print(\"Loading is Not done yet!\")\n",
    "    except UnexpectedAlertPresentException:\n",
    "        print(\"Not available yet!\")\n",
    "        driver.get(\"https://24h.pchome.com.tw/prod/\"+product_id)\n",
    "    \n",
    "    "
   ]
  },
  {
   "cell_type": "code",
   "execution_count": null,
   "metadata": {},
   "outputs": [],
   "source": [
    "driver.get(\"https://ecssl.pchome.com.tw/sys/cflow/?m=shopcar\")\n",
    "while True:\n",
    "    try:\n",
    "        driver.find_element_by_id('a_cod').click()\n",
    "        break\n",
    "    except NoSuchElementException:\n",
    "        print(\"Loading is Not done yet!\")\n",
    "        pass"
   ]
  },
  {
   "cell_type": "code",
   "execution_count": null,
   "metadata": {},
   "outputs": [],
   "source": [
    "while True:\n",
    "    try:\n",
    "        driver.find_element_by_id('btnSubmit').click()\n",
    "        break\n",
    "    except NoSuchElementException:\n",
    "        print(\"Loading is Not done yet!\")\n",
    "        pass"
   ]
  },
  {
   "cell_type": "code",
   "execution_count": null,
   "metadata": {},
   "outputs": [],
   "source": []
  },
  {
   "cell_type": "code",
   "execution_count": null,
   "metadata": {},
   "outputs": [],
   "source": []
  }
 ],
 "metadata": {
  "kernelspec": {
   "display_name": "Python 3",
   "language": "python",
   "name": "python3"
  },
  "language_info": {
   "codemirror_mode": {
    "name": "ipython",
    "version": 3
   },
   "file_extension": ".py",
   "mimetype": "text/x-python",
   "name": "python",
   "nbconvert_exporter": "python",
   "pygments_lexer": "ipython3",
   "version": "3.6.9"
  }
 },
 "nbformat": 4,
 "nbformat_minor": 2
}
